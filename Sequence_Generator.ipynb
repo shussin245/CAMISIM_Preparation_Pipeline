{
  "nbformat": 4,
  "nbformat_minor": 0,
  "metadata": {
    "colab": {
      "provenance": []
    },
    "kernelspec": {
      "name": "ir",
      "display_name": "R"
    },
    "language_info": {
      "name": "R"
    }
  },
  "cells": [
    {
      "cell_type": "code",
      "source": [
        "install.packages(\"seqinr\")\n",
        "library(seqinr)"
      ],
      "metadata": {
        "id": "dlGQeTe8dA-I"
      },
      "execution_count": null,
      "outputs": []
    },
    {
      "cell_type": "code",
      "source": [
        "bases = c(\"A\", \"C\", \"T\", \"G\")\n",
        "\n",
        "sequences = list()\n",
        "\n",
        "#UCM ID\n",
        "set.seed(100442971)\n",
        "\n",
        "for (j in 1:1000)\n",
        "{\n",
        "  seq = sample(x=bases, size=10000, replace=TRUE)\n",
        "  seq = paste(seq, collapse=\"\")\n",
        "  sequences = append(sequences, seq)\n",
        "}\n",
        "\n",
        "#Cannot print all sequences because it exceeds IOPub data rate\n",
        "#print(sequences)"
      ],
      "metadata": {
        "id": "dqA-DdR7yT0x"
      },
      "execution_count": 49,
      "outputs": []
    },
    {
      "cell_type": "code",
      "source": [
        "i = c(\"50i\", \"80i\", \"90i\", \"95i\", \"96i\", \"97i\", \"98i\", \"99i\", \"995i\", \"999i\")\n",
        "s = c(\"0s\", \"1s\", \"2s\", \"3s\", \"4s\", \"5s\", \"10s\", \"15s\", \"20s\", \"50s\")\n",
        "d = c(\"3d\", \"5d\", \"10d\", \"15d\", \"20d\", \"25d\", \"50d\", \"75d\", \"100d\", \"200d\")\n",
        "\n",
        "names = c()\n",
        "\n",
        "for (a in 1:10)\n",
        "{\n",
        "  for (b in 1:10)\n",
        "  {\n",
        "    n = data.frame(i[a], s[b], d)\n",
        "    name = apply(n, 1, paste, collapse=\"\")\n",
        "    names = append(names, name)\n",
        "  }\n",
        "}\n",
        "\n",
        "print(names)"
      ],
      "metadata": {
        "id": "wWCBcAAo4jdY"
      },
      "execution_count": null,
      "outputs": []
    },
    {
      "cell_type": "code",
      "source": [
        "write.fasta(sequences, names, \"Ref_Seq.fasta\", open=\"w\", nbchar=60, as.string=TRUE)"
      ],
      "metadata": {
        "id": "jtm1LA02dQ4s"
      },
      "execution_count": 51,
      "outputs": []
    }
  ]
}