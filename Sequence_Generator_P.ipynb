{
  "nbformat": 4,
  "nbformat_minor": 0,
  "metadata": {
    "colab": {
      "provenance": []
    },
    "kernelspec": {
      "name": "python3",
      "display_name": "Python 3"
    },
    "language_info": {
      "name": "python"
    }
  },
  "cells": [
    {
      "cell_type": "markdown",
      "source": [
        "Libraries"
      ],
      "metadata": {
        "id": "GDNjhWMjAaq8"
      }
    },
    {
      "cell_type": "code",
      "source": [
        "import string\n",
        "import random\n",
        "import numpy as np\n",
        "import math"
      ],
      "metadata": {
        "id": "TR5lZVZG18x6"
      },
      "execution_count": 1,
      "outputs": []
    },
    {
      "cell_type": "markdown",
      "source": [
        "Generating Reference Sequences"
      ],
      "metadata": {
        "id": "dYBtirwBAheT"
      }
    },
    {
      "cell_type": "code",
      "source": [
        "bases = \"ACTG\"\n",
        "sequences = []\n",
        "random.seed(100442971)\n",
        "\n",
        "for i in range(0, 1000):\n",
        "\n",
        "  seq = ''.join(random.choice(bases) for j in range(10000))\n",
        "  sequences.append(seq)\n",
        "  #print(seq)\n",
        "\n",
        "#Cannot print all sequences because it exceeds IOPub data rate\n",
        "#print(sequences)"
      ],
      "metadata": {
        "id": "E-GyUavv29XE"
      },
      "execution_count": 12,
      "outputs": []
    },
    {
      "cell_type": "markdown",
      "source": [
        "Creating Sequence Names"
      ],
      "metadata": {
        "id": "4Iqa5DBmAj0U"
      }
    },
    {
      "cell_type": "code",
      "source": [
        "pct_ids = [50, 80, 90, 95, 96, 97, 98, 99, 99.5, 99.9]\n",
        "n_strains = [0, 1, 2, 3, 4, 5, 10, 15, 20, 50]\n",
        "depths = [3, 5, 10, 15, 20, 25, 50, 75, 100, 200]\n",
        "\n",
        "pct_id_labels = [str(x) + \"%ID\" for x in pct_ids]\n",
        "pct_id_dict = dict(zip(pct_ids, pct_id_labels))\n",
        "\n",
        "n_strain_labels = [str(y) + \"STR\" for y in n_strains]\n",
        "n_strain_dict = dict(zip(n_strains, n_strain_labels))\n",
        "\n",
        "depth_labels = [str(z) + \"DPT\" for z in depths]\n",
        "depth_dict = dict(zip(depths, depth_labels))\n",
        "\n",
        "#print(pct_id_dict)\n",
        "#print(n_strain_dict)\n",
        "#print(depth_dict)\n",
        "\n",
        "str_names = []\n",
        "vec_names = []\n",
        "\n",
        "for a in pct_ids:\n",
        "  for b in n_strains:\n",
        "    for c in depths:\n",
        "\n",
        "      vec_name_list = [a,b,c]\n",
        "      vec_name = np.array(vec_name_list)\n",
        "      str_name = f\"{pct_id_dict[a]}_{n_strain_dict[b]}_{depth_dict[c]}\"\n",
        "      str_names.append(str_name)\n",
        "      vec_names.append(vec_name)\n",
        "      #print(str_name)\n",
        "      #print(vec_name)\n",
        "\n",
        "#print(len(sequences))\n",
        "#print(len(names))\n",
        "#print(names[0][0][0])\n",
        "#names_set = set(names)\n",
        "#print(len(names_set))"
      ],
      "metadata": {
        "id": "agyABp4-51aV"
      },
      "execution_count": 3,
      "outputs": []
    },
    {
      "cell_type": "markdown",
      "source": [
        "Creating FASTA File"
      ],
      "metadata": {
        "id": "Kkn36aEOA0ZE"
      }
    },
    {
      "cell_type": "code",
      "source": [
        "references_dict = dict(zip(str_names, sequences))\n",
        "\n",
        "fasta_file_1 = open(\"references.fasta\", \"w\")\n",
        "\n",
        "for k in range(len(references_dict)):\n",
        "    fasta_file_1.write(\">\" + str_names[k] + \"\\n\" +sequences[k] + \"\\n\")\n",
        "\n",
        "fasta_file_1.close()"
      ],
      "metadata": {
        "id": "CbXZlhR1-3wd"
      },
      "execution_count": 28,
      "outputs": []
    },
    {
      "cell_type": "markdown",
      "source": [
        "Generating Additional Strains\n",
        "\n",
        "1. Create a for-loop that goes through each of the names in the names list\n",
        "2. Obtain the # of strains names from each name\n",
        "3. For each name, the number of additional strains will be generated and will be numberered according to the strain number\n",
        "4. Each strain will be at the same %id, but the # of same bases should be changed accordingly (a lower %id will yield more bases to be changed)\n",
        "5. **Does the position of the bases that are changed must be the same for each set of additional strains?**\n",
        "6. New names and strains will be added to their own lists\n",
        "7. All the additional strains will be added to another .fasta file"
      ],
      "metadata": {
        "id": "5SHOlF4vobkr"
      }
    },
    {
      "cell_type": "code",
      "source": [
        "total_add_strains = 0\n",
        "strains = []\n",
        "strain_names = []\n",
        "\n",
        "for n in range(0, 1000):\n",
        "  name = vec_names[n]\n",
        "  #print(name)\n",
        "  num_add_strains = vec_names[n][1]\n",
        "  #print(num_add_strains)\n",
        "  total_add_strains += num_add_strains\n",
        "  bases_change = (1-((vec_names[n][0])/100))*10000\n",
        "  bases_change = round(bases_change)\n",
        "  #print(bases_change)\n",
        "\n",
        "  sequence = sequences[n]\n",
        "  #print(sequence)\n",
        "  seq_list = list(sequences[n])\n",
        "\n",
        "  for o in range(0, int(num_add_strains)):\n",
        "    for m in range(0, int(bases_change)):\n",
        "      ind = random.randrange(10000)\n",
        "      if seq_list[ind] == \"A\":\n",
        "        seq_list[ind] = \"T\"\n",
        "      elif seq_list[ind] == \"T\":\n",
        "        seq_list[ind] = \"A\"\n",
        "      elif seq_list[ind] == \"G\":\n",
        "        seq_list[ind] = \"C\"\n",
        "      else:\n",
        "        seq_list[ind] = 'G'\n",
        "\n",
        "    new_strain = \"\".join(seq_list)\n",
        "    #print(new_strain)\n",
        "    strains.append(new_strain)\n",
        "\n",
        "    strain_name = f\"{str_names[n]}_S{o+1}\"\n",
        "    #print(strain_name)\n",
        "    strain_names.append(strain_name)\n",
        "\n",
        "#print(total_add_strains)\n",
        "#print(strains)\n",
        "#print(len(strains))\n",
        "#print(len(strain_names))\n",
        "#strain_set = set(strains)\n",
        "#print(len(strain_set))"
      ],
      "metadata": {
        "colab": {
          "base_uri": "https://localhost:8080/"
        },
        "id": "yKMdnJ8Rs-QN",
        "outputId": "f5a26699-6e65-4ef0-9dbe-d378b29c14f5"
      },
      "execution_count": 36,
      "outputs": [
        {
          "output_type": "stream",
          "name": "stdout",
          "text": [
            "11000\n",
            "11000\n",
            "11000\n"
          ]
        }
      ]
    },
    {
      "cell_type": "markdown",
      "source": [
        "Creating FASTA File"
      ],
      "metadata": {
        "id": "cpQCQLsEhB6v"
      }
    },
    {
      "cell_type": "code",
      "source": [
        "strains_dict = dict(zip(strain_names, strains))\n",
        "\n",
        "print(len(strains_dict))\n",
        "\n",
        "fasta_file_2 = open(\"strains.fasta\", \"w\")\n",
        "\n",
        "for k in range(len(strains_dict)):\n",
        "    fasta_file_2.write(\">\" + strain_names[k] + \"\\n\" +strains[k] + \"\\n\")\n",
        "\n",
        "fasta_file_2.close()"
      ],
      "metadata": {
        "colab": {
          "base_uri": "https://localhost:8080/"
        },
        "id": "7Q2noCnWhBII",
        "outputId": "ec1c9b2a-c187-41a9-9f3f-482889f8d922"
      },
      "execution_count": 37,
      "outputs": [
        {
          "output_type": "stream",
          "name": "stdout",
          "text": [
            "11000\n"
          ]
        }
      ]
    }
  ]
}